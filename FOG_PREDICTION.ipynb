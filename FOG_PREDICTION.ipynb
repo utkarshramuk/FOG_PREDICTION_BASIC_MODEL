{
 "cells": [
  {
   "cell_type": "code",
   "execution_count": 74,
   "metadata": {},
   "outputs": [],
   "source": [
    "import pandas as pd \n",
    "import numpy as np\n",
    "import matplotlib.pyplot as plt\n",
    "import seaborn as sns\n",
    "import math"
   ]
  },
  {
   "cell_type": "code",
   "execution_count": 75,
   "metadata": {},
   "outputs": [],
   "source": [
    "date_num=3539"
   ]
  },
  {
   "cell_type": "markdown",
   "metadata": {},
   "source": [
    "# Temperature Prediction"
   ]
  },
  {
   "cell_type": "markdown",
   "metadata": {},
   "source": [
    "MAXIMUM TEMPERATURE PREDICTION"
   ]
  },
  {
   "cell_type": "code",
   "execution_count": 76,
   "metadata": {},
   "outputs": [],
   "source": [
    "from sklearn.linear_model import LinearRegression as LinReg"
   ]
  },
  {
   "cell_type": "code",
   "execution_count": 77,
   "metadata": {},
   "outputs": [
    {
     "data": {
      "text/plain": [
       "LinearRegression()"
      ]
     },
     "execution_count": 77,
     "metadata": {},
     "output_type": "execute_result"
    }
   ],
   "source": [
    "datatempmax = pd.read_csv('delhi_maxmin_temp.csv')\n",
    "datatempmax.head(4)\n",
    "x = datatempmax.drop(['MaxTemp','MinTemp'], axis=1)  \n",
    "y = datatempmax['MaxTemp']\n",
    "#print(x)\n",
    "from sklearn.model_selection import train_test_split\n",
    "train_x,test_x,train_y,test_y = train_test_split(x,y, random_state = 56) \n",
    "#print(train_x,test_x,train_y,test_y)\n",
    "#sns.lineplot(data=datatempmax, x=\"num\", y=\"MaxTemp\")\n",
    "linreg = LinReg()    \n",
    "# Fitting the model\n",
    "linreg.fit(train_x, train_y)"
   ]
  },
  {
   "cell_type": "markdown",
   "metadata": {},
   "source": [
    "R squared of MAXIMUM TEMPERATURE"
   ]
  },
  {
   "cell_type": "code",
   "execution_count": 78,
   "metadata": {},
   "outputs": [
    {
     "name": "stdout",
     "output_type": "stream",
     "text": [
      "0.8722822531635639\n"
     ]
    }
   ],
   "source": [
    "train_predict = linreg.predict(train_x)\n",
    "# R SQYARED CALCULATION\n",
    "from sklearn.metrics import r2_score\n",
    "r2=r2_score(train_y,train_predict)\n",
    "print(r2)"
   ]
  },
  {
   "cell_type": "code",
   "execution_count": 79,
   "metadata": {},
   "outputs": [
    {
     "name": "stdout",
     "output_type": "stream",
     "text": [
      "[64.44475071]\n"
     ]
    }
   ],
   "source": [
    "ptempmax=linreg.predict([[date_num]])\n",
    "print(ptempmax)"
   ]
  },
  {
   "cell_type": "markdown",
   "metadata": {},
   "source": [
    "MINIMUM TEMPERATURE PREDICTION"
   ]
  },
  {
   "cell_type": "code",
   "execution_count": 80,
   "metadata": {},
   "outputs": [
    {
     "data": {
      "text/plain": [
       "LinearRegression()"
      ]
     },
     "execution_count": 80,
     "metadata": {},
     "output_type": "execute_result"
    }
   ],
   "source": [
    "datatempmin = pd.read_csv('delhi_maxmin_temp.csv')\n",
    "datatempmin.head(4)\n",
    "x = datatempmin.drop(['MaxTemp','MinTemp'], axis=1)  \n",
    "y = datatempmin['MinTemp']\n",
    "#print(x)\n",
    "from sklearn.model_selection import train_test_split\n",
    "train_x,test_x,train_y,test_y = train_test_split(x,y, random_state = 56) \n",
    "#print(train_x,test_x,train_y,test_y)\n",
    "#sns.lineplot(data=datatempmax, x=\"num\", y=\"MaxTemp\")\n",
    "linreg = LinReg()    \n",
    "# Fitting the model\n",
    "linreg.fit(train_x, train_y)"
   ]
  },
  {
   "cell_type": "markdown",
   "metadata": {},
   "source": [
    "R squared of MINIMUM TEMPERATURE"
   ]
  },
  {
   "cell_type": "code",
   "execution_count": 81,
   "metadata": {},
   "outputs": [
    {
     "name": "stdout",
     "output_type": "stream",
     "text": [
      "0.7179626667361872\n"
     ]
    }
   ],
   "source": [
    "train_predict = linreg.predict(train_x)\n",
    "# R SQYARED CALCULATION\n",
    "from sklearn.metrics import r2_score\n",
    "r2=r2_score(train_y,train_predict)\n",
    "print(r2)"
   ]
  },
  {
   "cell_type": "code",
   "execution_count": 82,
   "metadata": {},
   "outputs": [
    {
     "name": "stdout",
     "output_type": "stream",
     "text": [
      "[45.3712717]\n"
     ]
    }
   ],
   "source": [
    "ptempmin=linreg.predict([[date_num]])\n",
    "print(ptempmin)"
   ]
  },
  {
   "cell_type": "markdown",
   "metadata": {},
   "source": [
    "CODE TO PREDICT TEMPERATURE AT ANY TIME DURING THE DAY"
   ]
  },
  {
   "cell_type": "code",
   "execution_count": 83,
   "metadata": {},
   "outputs": [
    {
     "name": "stdout",
     "output_type": "stream",
     "text": [
      "[57.37630101]\n"
     ]
    }
   ],
   "source": [
    "tim=15  #range of 1-24\n",
    "tmin=1\n",
    "tmax=12\n",
    "if(tim<tmin):\n",
    "    f1=(math.cos(math.pi((tmin-tim)/24 + (tmin-tmax)))+1)/2\n",
    "elif(tim<tmax and time>=tmin):\n",
    "    f1=(math.cos(math.pi*((tim-tmin)/(tmax-tmin)))+1)/2\n",
    "else:\n",
    "    f1=(math.cos(math.pi*((24+tmin-tim)/24 + (tmin-tmax)))+1)/2\n",
    "f2=1-f1\n",
    "T_anytime= f1*ptempmin+f2*ptempmax\n",
    "print(T_anytime)"
   ]
  },
  {
   "cell_type": "code",
   "execution_count": 84,
   "metadata": {},
   "outputs": [],
   "source": [
    "ptemp=T_anytime"
   ]
  },
  {
   "cell_type": "code",
   "execution_count": 85,
   "metadata": {},
   "outputs": [],
   "source": [
    "#sns.lineplot(datatemp.DateNum, linreg.predict(datatemp[['DateNum']]), palette=\"tab20\", linewidth=1.5,color='red');\n",
    "#sns.scatterplot(datatemp.DateNum, datatemp.TEMP);\n",
    "#GRAPH HERE IF NECESSARY"
   ]
  },
  {
   "cell_type": "markdown",
   "metadata": {},
   "source": [
    "# Dew Point Prediction"
   ]
  },
  {
   "cell_type": "code",
   "execution_count": 86,
   "metadata": {},
   "outputs": [
    {
     "data": {
      "text/html": [
       "<div>\n",
       "<style scoped>\n",
       "    .dataframe tbody tr th:only-of-type {\n",
       "        vertical-align: middle;\n",
       "    }\n",
       "\n",
       "    .dataframe tbody tr th {\n",
       "        vertical-align: top;\n",
       "    }\n",
       "\n",
       "    .dataframe thead th {\n",
       "        text-align: right;\n",
       "    }\n",
       "</style>\n",
       "<table border=\"1\" class=\"dataframe\">\n",
       "  <thead>\n",
       "    <tr style=\"text-align: right;\">\n",
       "      <th></th>\n",
       "      <th>num</th>\n",
       "      <th>Dew</th>\n",
       "    </tr>\n",
       "  </thead>\n",
       "  <tbody>\n",
       "    <tr>\n",
       "      <th>0</th>\n",
       "      <td>3531</td>\n",
       "      <td>48.0</td>\n",
       "    </tr>\n",
       "    <tr>\n",
       "      <th>1</th>\n",
       "      <td>3532</td>\n",
       "      <td>53.1</td>\n",
       "    </tr>\n",
       "    <tr>\n",
       "      <th>2</th>\n",
       "      <td>3533</td>\n",
       "      <td>51.9</td>\n",
       "    </tr>\n",
       "    <tr>\n",
       "      <th>3</th>\n",
       "      <td>3534</td>\n",
       "      <td>50.4</td>\n",
       "    </tr>\n",
       "  </tbody>\n",
       "</table>\n",
       "</div>"
      ],
      "text/plain": [
       "    num   Dew\n",
       "0  3531  48.0\n",
       "1  3532  53.1\n",
       "2  3533  51.9\n",
       "3  3534  50.4"
      ]
     },
     "execution_count": 86,
     "metadata": {},
     "output_type": "execute_result"
    }
   ],
   "source": [
    "datadew = pd.read_csv('delhi_dew_point.csv')\n",
    "datadew.head(4)"
   ]
  },
  {
   "cell_type": "code",
   "execution_count": 87,
   "metadata": {},
   "outputs": [],
   "source": [
    "x = datadew.drop(['Dew'], axis=1)\n",
    "y = datadew['Dew']\n",
    "#print(x)"
   ]
  },
  {
   "cell_type": "code",
   "execution_count": 88,
   "metadata": {},
   "outputs": [],
   "source": [
    "#sns.lineplot(data=data2, x=\"num\", y=\"Dew\")"
   ]
  },
  {
   "cell_type": "code",
   "execution_count": 89,
   "metadata": {},
   "outputs": [],
   "source": [
    "from sklearn.model_selection import train_test_split\n",
    "train_x,test_x,train_y,test_y = train_test_split(x,y, random_state = 56) "
   ]
  },
  {
   "cell_type": "code",
   "execution_count": 90,
   "metadata": {},
   "outputs": [],
   "source": [
    "from sklearn.linear_model import LinearRegression as LinReg"
   ]
  },
  {
   "cell_type": "code",
   "execution_count": 91,
   "metadata": {},
   "outputs": [
    {
     "data": {
      "text/plain": [
       "LinearRegression()"
      ]
     },
     "execution_count": 91,
     "metadata": {},
     "output_type": "execute_result"
    }
   ],
   "source": [
    "linreg = LinReg()    \n",
    "# Fitting the model\n",
    "linreg.fit(train_x, train_y)"
   ]
  },
  {
   "cell_type": "code",
   "execution_count": 92,
   "metadata": {},
   "outputs": [
    {
     "name": "stderr",
     "output_type": "stream",
     "text": [
      "C:\\Users\\UTKARSH_KUMAR\\anaconda3\\lib\\site-packages\\seaborn\\_decorators.py:36: FutureWarning: Pass the following variables as keyword args: x, y. From version 0.12, the only valid positional argument will be `data`, and passing other arguments without an explicit keyword will result in an error or misinterpretation.\n",
      "  warnings.warn(\n",
      "C:\\Users\\UTKARSH_KUMAR\\anaconda3\\lib\\site-packages\\seaborn\\_decorators.py:36: FutureWarning: Pass the following variables as keyword args: x, y. From version 0.12, the only valid positional argument will be `data`, and passing other arguments without an explicit keyword will result in an error or misinterpretation.\n",
      "  warnings.warn(\n"
     ]
    },
    {
     "data": {
      "text/plain": [
       "<AxesSubplot:xlabel='num', ylabel='Dew'>"
      ]
     },
     "execution_count": 92,
     "metadata": {},
     "output_type": "execute_result"
    },
    {
     "data": {
      "image/png": "[encoded data removed]",
      "text/plain": [
       "<Figure size 432x288 with 1 Axes>"
      ]
     },
     "metadata": {
      "needs_background": "light"
     },
     "output_type": "display_data"
    }
   ],
   "source": [
    "sns.lineplot(datadew.num, linreg.predict(datadew[['num']]), palette=\"tab20\", linewidth=1.5,color='red');\n",
    "sns.scatterplot(datadew.num, datadew.Dew);\n",
    "sns.lineplot(data=datadew, x=\"num\", y=\"Dew\")"
   ]
  },
  {
   "cell_type": "markdown",
   "metadata": {},
   "source": [
    "R squared of DEW POINT"
   ]
  },
  {
   "cell_type": "code",
   "execution_count": 93,
   "metadata": {},
   "outputs": [
    {
     "name": "stdout",
     "output_type": "stream",
     "text": [
      "0.39475308943381304\n"
     ]
    }
   ],
   "source": [
    "train_predict = linreg.predict(train_x)\n",
    "# R SQYARED CALCULATION\n",
    "from sklearn.metrics import r2_score\n",
    "r2=r2_score(train_y,train_predict)\n",
    "print(r2)"
   ]
  },
  {
   "cell_type": "markdown",
   "metadata": {},
   "source": [
    "### Dew Point (F) VALUE prediction "
   ]
  },
  {
   "cell_type": "code",
   "execution_count": 94,
   "metadata": {},
   "outputs": [
    {
     "name": "stdout",
     "output_type": "stream",
     "text": [
      "[48.24321363]\n"
     ]
    }
   ],
   "source": [
    "pdew=linreg.predict([[date_num]])\n",
    "print(pdew)"
   ]
  },
  {
   "cell_type": "markdown",
   "metadata": {},
   "source": [
    "# Relative Humidity Prediction"
   ]
  },
  {
   "cell_type": "code",
   "execution_count": 95,
   "metadata": {},
   "outputs": [],
   "source": [
    "datarh = pd.read_csv('delhi_rh.csv')\n",
    "#data2.head(4)"
   ]
  },
  {
   "cell_type": "code",
   "execution_count": 96,
   "metadata": {},
   "outputs": [],
   "source": [
    "#sns.lineplot(data=datarh, x=\"num\", y=\"Humidity\")"
   ]
  },
  {
   "cell_type": "code",
   "execution_count": 97,
   "metadata": {},
   "outputs": [],
   "source": [
    "x = datarh.drop(['Humidity'], axis=1)\n",
    "y = datarh['Humidity']\n",
    "#print(x)"
   ]
  },
  {
   "cell_type": "code",
   "execution_count": 98,
   "metadata": {},
   "outputs": [],
   "source": [
    "from sklearn.model_selection import train_test_split\n",
    "from sklearn.linear_model import LinearRegression as LinReg\n",
    "train_x,test_x,train_y,test_y = train_test_split(x,y, random_state = 56) "
   ]
  },
  {
   "cell_type": "code",
   "execution_count": 99,
   "metadata": {},
   "outputs": [
    {
     "data": {
      "text/plain": [
       "LinearRegression()"
      ]
     },
     "execution_count": 99,
     "metadata": {},
     "output_type": "execute_result"
    }
   ],
   "source": [
    "linreg = LinReg()    \n",
    "# Fitting the model\n",
    "linreg.fit(train_x, train_y)"
   ]
  },
  {
   "cell_type": "code",
   "execution_count": 100,
   "metadata": {},
   "outputs": [
    {
     "name": "stderr",
     "output_type": "stream",
     "text": [
      "C:\\Users\\UTKARSH_KUMAR\\anaconda3\\lib\\site-packages\\seaborn\\_decorators.py:36: FutureWarning: Pass the following variables as keyword args: x, y. From version 0.12, the only valid positional argument will be `data`, and passing other arguments without an explicit keyword will result in an error or misinterpretation.\n",
      "  warnings.warn(\n",
      "C:\\Users\\UTKARSH_KUMAR\\anaconda3\\lib\\site-packages\\seaborn\\_decorators.py:36: FutureWarning: Pass the following variables as keyword args: x, y. From version 0.12, the only valid positional argument will be `data`, and passing other arguments without an explicit keyword will result in an error or misinterpretation.\n",
      "  warnings.warn(\n"
     ]
    },
    {
     "data": {
      "text/plain": [
       "<AxesSubplot:xlabel='num', ylabel='Humidity'>"
      ]
     },
     "execution_count": 100,
     "metadata": {},
     "output_type": "execute_result"
    },
    {
     "data": {
      "image/png": "[encoded data removed]",
      "text/plain": [
       "<Figure size 432x288 with 1 Axes>"
      ]
     },
     "metadata": {
      "needs_background": "light"
     },
     "output_type": "display_data"
    }
   ],
   "source": [
    "sns.lineplot(datarh.num, linreg.predict(datarh[['num']]), palette=\"tab20\", linewidth=1.5,color='red');\n",
    "sns.scatterplot(datarh.num, datarh.Humidity);\n",
    "sns.lineplot(data=datarh, x=\"num\", y=\"Humidity\")"
   ]
  },
  {
   "cell_type": "markdown",
   "metadata": {},
   "source": [
    "R squared of RELATIVE HUMIDITY"
   ]
  },
  {
   "cell_type": "code",
   "execution_count": 106,
   "metadata": {},
   "outputs": [
    {
     "name": "stdout",
     "output_type": "stream",
     "text": [
      "0.6180594528704353\n"
     ]
    }
   ],
   "source": [
    "train_predict = linreg.predict(train_x)\n",
    "# R SQYARED CALCULATION\n",
    "from sklearn.metrics import r2_score\n",
    "r2=r2_score(train_y,train_predict)\n",
    "print(r2)"
   ]
  },
  {
   "cell_type": "markdown",
   "metadata": {},
   "source": [
    "### Relative Humidity(%)  VALUE prediction "
   ]
  },
  {
   "cell_type": "code",
   "execution_count": 102,
   "metadata": {},
   "outputs": [
    {
     "name": "stdout",
     "output_type": "stream",
     "text": [
      "[80.08619581]\n"
     ]
    }
   ],
   "source": [
    "pRH=linreg.predict([[date_num]])\n",
    "print(pRH)"
   ]
  },
  {
   "cell_type": "markdown",
   "metadata": {},
   "source": [
    "# ALL THE PREDICTED VALUES\n"
   ]
  },
  {
   "cell_type": "code",
   "execution_count": 103,
   "metadata": {},
   "outputs": [
    {
     "name": "stdout",
     "output_type": "stream",
     "text": [
      "[57.37630101] [48.24321363] [80.08619581]\n"
     ]
    }
   ],
   "source": [
    "print(ptemp,pdew,pRH)"
   ]
  },
  {
   "cell_type": "markdown",
   "metadata": {},
   "source": [
    "# FOG PREDICTOR 1"
   ]
  },
  {
   "cell_type": "code",
   "execution_count": 104,
   "metadata": {},
   "outputs": [
    {
     "name": "stdout",
     "output_type": "stream",
     "text": [
      "Less Chance of Fogging\n"
     ]
    }
   ],
   "source": [
    "if(math.fabs(ptemp-pdew)<=8):\n",
    "    print(\"High Chance of Fogging\")\n",
    "elif(math.fabs(ptemp-pdew)>8 and math.fabs(ptemp-pdew)<10):\n",
    "    print(\"Less Chance of Fogging\")\n",
    "else:\n",
    "    print(\"Fogging is Unlikely\")"
   ]
  },
  {
   "cell_type": "markdown",
   "metadata": {},
   "source": [
    "# FOG PREDICTOR 2"
   ]
  },
  {
   "cell_type": "code",
   "execution_count": 105,
   "metadata": {},
   "outputs": [
    {
     "name": "stdout",
     "output_type": "stream",
     "text": [
      "[0.00245414]\n",
      "Fogging will take place\n"
     ]
    }
   ],
   "source": [
    "z= 225 # elevation of delhi above msl \n",
    "Rdr= 287.058 # gas constant for dry air\n",
    "g = 9.81 # acceleration due to gravity\n",
    "T= ((ptemp-32)*5/9)+273.15 #convert from Fahrenheit to Kelvin\n",
    "t_bar=0.65*z/100\n",
    "celcius=(5/9)*ptemp-32\n",
    "es = 611.21*math.exp(22.587*celcius/(273.86+celcius)) \n",
    "e = (pRH*es)/100\n",
    "e0 = e/math.exp((-z*g)/(Rdr*t_bar))\n",
    "#elwc=e-es   #original eq\n",
    "elwc=e0/100-es\n",
    "LWC = elwc/(461.52*T)\n",
    "print(LWC)\n",
    "if (LWC<0.001):\n",
    "    print(\"Fogging is unlikely\")\n",
    "else:\n",
    "    print(\"Fogging will take place\")\n",
    "    \n",
    "#print(T,e,es,e0,elwc,LWC)"
   ]
  }
 ],
 "metadata": {
  "kernelspec": {
   "display_name": "Python 3",
   "language": "python",
   "name": "python3"
  },
  "language_info": {
   "codemirror_mode": {
    "name": "ipython",
    "version": 3
   },
   "file_extension": ".py",
   "mimetype": "text/x-python",
   "name": "python",
   "nbconvert_exporter": "python",
   "pygments_lexer": "ipython3",
   "version": "3.8.5"
  }
 },
 "nbformat": 4,
 "nbformat_minor": 4
}
